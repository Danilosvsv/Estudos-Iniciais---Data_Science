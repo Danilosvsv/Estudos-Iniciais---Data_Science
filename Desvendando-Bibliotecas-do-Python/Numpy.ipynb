{
 "cells": [
  {
   "cell_type": "markdown",
   "metadata": {},
   "source": [
    "## Numpy - Conceitos Introdutórios\n",
    "\n",
    "É uma biblioteca de álgebra linear para python."
   ]
  },
  {
   "cell_type": "code",
   "execution_count": 1,
   "metadata": {},
   "outputs": [],
   "source": [
    "import numpy as np # Importa-se a biblioteca numpy"
   ]
  },
  {
   "cell_type": "code",
   "execution_count": 2,
   "metadata": {},
   "outputs": [
    {
     "data": {
      "text/plain": [
       "[1, 2, 3]"
      ]
     },
     "execution_count": 2,
     "metadata": {},
     "output_type": "execute_result"
    }
   ],
   "source": [
    "lista = [1,2,3] # Criando uma lista qualquer\n",
    "lista # imprime a lista"
   ]
  },
  {
   "cell_type": "code",
   "execution_count": 3,
   "metadata": {},
   "outputs": [
    {
     "data": {
      "text/plain": [
       "array([1, 2, 3])"
      ]
     },
     "execution_count": 3,
     "metadata": {},
     "output_type": "execute_result"
    }
   ],
   "source": [
    "np.array(lista) # Convertendo um array simples para um array numpy"
   ]
  },
  {
   "cell_type": "code",
   "execution_count": 4,
   "metadata": {},
   "outputs": [
    {
     "name": "stdout",
     "output_type": "stream",
     "text": [
      "[[1 2 3]\n",
      " [4 5 6]\n",
      " [7 8 9]]\n",
      "9\n"
     ]
    }
   ],
   "source": [
    "matriz = [[1,2,3],[4,5,6],[7,8,9]]\n",
    "matriz_numpy = np.array(matriz)\n",
    "print(matriz_numpy)\n",
    "print(matriz_numpy[2,2])"
   ]
  },
  {
   "cell_type": "code",
   "execution_count": 5,
   "metadata": {},
   "outputs": [
    {
     "data": {
      "text/plain": [
       "array([ 0. ,  2.5,  5. ,  7.5, 10. , 12.5, 15. , 17.5, 20. , 22.5, 25. ,\n",
       "       27.5, 30. , 32.5, 35. , 37.5, 40. , 42.5, 45. , 47.5, 50. , 52.5,\n",
       "       55. , 57.5, 60. , 62.5, 65. , 67.5, 70. , 72.5, 75. , 77.5, 80. ,\n",
       "       82.5, 85. , 87.5, 90. , 92.5, 95. , 97.5])"
      ]
     },
     "execution_count": 5,
     "metadata": {},
     "output_type": "execute_result"
    }
   ],
   "source": [
    "np.arange(0,100,2.5)"
   ]
  },
  {
   "cell_type": "code",
   "execution_count": 6,
   "metadata": {},
   "outputs": [
    {
     "data": {
      "text/plain": [
       "array([0., 0., 0.])"
      ]
     },
     "execution_count": 6,
     "metadata": {},
     "output_type": "execute_result"
    }
   ],
   "source": [
    "np.zeros(3) # criando um array de zeros"
   ]
  },
  {
   "cell_type": "code",
   "execution_count": 7,
   "metadata": {},
   "outputs": [
    {
     "data": {
      "text/plain": [
       "array([1., 1., 1., 1., 1.])"
      ]
     },
     "execution_count": 7,
     "metadata": {},
     "output_type": "execute_result"
    }
   ],
   "source": [
    "np.ones(5) # criando um array de 'um'"
   ]
  },
  {
   "cell_type": "code",
   "execution_count": 8,
   "metadata": {},
   "outputs": [
    {
     "data": {
      "text/plain": [
       "array([[0., 0., 0., 0., 0.],\n",
       "       [0., 0., 0., 0., 0.],\n",
       "       [0., 0., 0., 0., 0.],\n",
       "       [0., 0., 0., 0., 0.],\n",
       "       [0., 0., 0., 0., 0.]])"
      ]
     },
     "execution_count": 8,
     "metadata": {},
     "output_type": "execute_result"
    }
   ],
   "source": [
    "arr = np.zeros((5,5)) # Para o caso de uma matriz, passa-se o parâmetro para uma trupla\n",
    "arr"
   ]
  },
  {
   "cell_type": "code",
   "execution_count": 9,
   "metadata": {},
   "outputs": [
    {
     "data": {
      "text/plain": [
       "array([[1., 0., 0., 0.],\n",
       "       [0., 1., 0., 0.],\n",
       "       [0., 0., 1., 0.],\n",
       "       [0., 0., 0., 1.]])"
      ]
     },
     "execution_count": 9,
     "metadata": {},
     "output_type": "execute_result"
    }
   ],
   "source": [
    "np.eye(4)"
   ]
  },
  {
   "cell_type": "markdown",
   "metadata": {},
   "source": [
    "## II - Malha"
   ]
  },
  {
   "cell_type": "code",
   "execution_count": 10,
   "metadata": {},
   "outputs": [
    {
     "data": {
      "text/plain": [
       "array([ 0.        ,  0.78947368,  1.57894737,  2.36842105,  3.15789474,\n",
       "        3.94736842,  4.73684211,  5.52631579,  6.31578947,  7.10526316,\n",
       "        7.89473684,  8.68421053,  9.47368421, 10.26315789, 11.05263158,\n",
       "       11.84210526, 12.63157895, 13.42105263, 14.21052632, 15.        ])"
      ]
     },
     "execution_count": 10,
     "metadata": {},
     "output_type": "execute_result"
    }
   ],
   "source": [
    "np.linspace(0,15,20)"
   ]
  },
  {
   "cell_type": "markdown",
   "metadata": {},
   "source": [
    "## III - Amostra aleatória - numpy.random\n",
    "\n",
    "* Dados aleatórios simples\n",
    "\n",
    "a) rand: Gera valores aleatórios entre 0 e 1, guardando-os em um array nxn."
   ]
  },
  {
   "cell_type": "code",
   "execution_count": 11,
   "metadata": {},
   "outputs": [
    {
     "data": {
      "text/plain": [
       "array([[0.02373495, 0.06422631, 0.40879769],\n",
       "       [0.57112597, 0.26104937, 0.7541172 ],\n",
       "       [0.37489384, 0.21551154, 0.24389588]])"
      ]
     },
     "execution_count": 11,
     "metadata": {},
     "output_type": "execute_result"
    }
   ],
   "source": [
    "np.random.rand(3,3)"
   ]
  },
  {
   "cell_type": "markdown",
   "metadata": {},
   "source": [
    "b) randn: Gera valores aleatórios seguindo a distribuição normal padrão."
   ]
  },
  {
   "cell_type": "code",
   "execution_count": 12,
   "metadata": {},
   "outputs": [
    {
     "data": {
      "text/plain": [
       "array([-0.87770247, -0.72227578,  0.1609518 , -1.30369043,  0.1729823 ])"
      ]
     },
     "execution_count": 12,
     "metadata": {},
     "output_type": "execute_result"
    }
   ],
   "source": [
    "np.random.randn(5)"
   ]
  },
  {
   "cell_type": "markdown",
   "metadata": {},
   "source": [
    "c) Há outras formas de obter amostras aleatórios simples por meio dessa biblioteca, entre elas podemos citar: radint, random_integers, random_sample, random, ranf, sample, choice e bytes."
   ]
  },
  {
   "cell_type": "markdown",
   "metadata": {},
   "source": [
    "* Permutações\n",
    "\n",
    "a) shuffle: modifica a sequência de forma misturada.\n",
    "\n"
   ]
  },
  {
   "cell_type": "code",
   "execution_count": 13,
   "metadata": {},
   "outputs": [
    {
     "data": {
      "text/plain": [
       "[6, 4, 3, 5]"
      ]
     },
     "execution_count": 13,
     "metadata": {},
     "output_type": "execute_result"
    }
   ],
   "source": [
    "x = [3,4,5,6]\n",
    "np.random.shuffle(x)\n",
    "x"
   ]
  },
  {
   "cell_type": "markdown",
   "metadata": {},
   "source": [
    "b) permutation: permuta aleatoriamente uma sequência"
   ]
  },
  {
   "cell_type": "code",
   "execution_count": 14,
   "metadata": {},
   "outputs": [
    {
     "data": {
      "text/plain": [
       "array([3, 4, 5, 6])"
      ]
     },
     "execution_count": 14,
     "metadata": {},
     "output_type": "execute_result"
    }
   ],
   "source": [
    "np.random.permutation(x)"
   ]
  },
  {
   "cell_type": "code",
   "execution_count": 15,
   "metadata": {},
   "outputs": [
    {
     "data": {
      "text/plain": [
       "array([18, 12,  5, 17, 12,  4,  2,  8,  1, 18,  4, 21, 23, 12, 11])"
      ]
     },
     "execution_count": 15,
     "metadata": {},
     "output_type": "execute_result"
    }
   ],
   "source": [
    "np.random.randint(1,25,15)"
   ]
  },
  {
   "cell_type": "markdown",
   "metadata": {},
   "source": [
    "### IV - Dando uma nova forma ao array sem alterar os seus dados."
   ]
  },
  {
   "cell_type": "code",
   "execution_count": 16,
   "metadata": {},
   "outputs": [
    {
     "data": {
      "text/plain": [
       "array([6, 4, 3, 5])"
      ]
     },
     "execution_count": 16,
     "metadata": {},
     "output_type": "execute_result"
    }
   ],
   "source": [
    "# Convertendo a lista x em um array\n",
    "x = np.array(x)\n",
    "x"
   ]
  },
  {
   "cell_type": "code",
   "execution_count": 17,
   "metadata": {},
   "outputs": [
    {
     "data": {
      "text/plain": [
       "array([[6, 4],\n",
       "       [3, 5]])"
      ]
     },
     "execution_count": 17,
     "metadata": {},
     "output_type": "execute_result"
    }
   ],
   "source": [
    "new_x = x.reshape((2,2)) # O array de 4 posições agora é uma matriz 2x2\n",
    "new_x"
   ]
  },
  {
   "cell_type": "code",
   "execution_count": 18,
   "metadata": {},
   "outputs": [
    {
     "data": {
      "text/plain": [
       "(2, 2)"
      ]
     },
     "execution_count": 18,
     "metadata": {},
     "output_type": "execute_result"
    }
   ],
   "source": [
    "new_x.shape"
   ]
  },
  {
   "cell_type": "code",
   "execution_count": 19,
   "metadata": {},
   "outputs": [
    {
     "data": {
      "text/plain": [
       "3"
      ]
     },
     "execution_count": 19,
     "metadata": {},
     "output_type": "execute_result"
    }
   ],
   "source": [
    "x.min() # minimo via numpy"
   ]
  },
  {
   "cell_type": "code",
   "execution_count": 20,
   "metadata": {},
   "outputs": [
    {
     "data": {
      "text/plain": [
       "6"
      ]
     },
     "execution_count": 20,
     "metadata": {},
     "output_type": "execute_result"
    }
   ],
   "source": [
    "x.max()"
   ]
  },
  {
   "cell_type": "code",
   "execution_count": 21,
   "metadata": {},
   "outputs": [
    {
     "data": {
      "text/plain": [
       "0"
      ]
     },
     "execution_count": 21,
     "metadata": {},
     "output_type": "execute_result"
    }
   ],
   "source": [
    "x.argmax() # retorna o indice do valor máximo do array"
   ]
  },
  {
   "cell_type": "code",
   "execution_count": 22,
   "metadata": {},
   "outputs": [
    {
     "data": {
      "text/plain": [
       "2"
      ]
     },
     "execution_count": 22,
     "metadata": {},
     "output_type": "execute_result"
    }
   ],
   "source": [
    "x.argmin() # retorna o indice do valor mínimo do array"
   ]
  },
  {
   "cell_type": "markdown",
   "metadata": {},
   "source": [
    "### V. Indexação e Fatiamento de arrays"
   ]
  },
  {
   "cell_type": "code",
   "execution_count": 23,
   "metadata": {},
   "outputs": [
    {
     "data": {
      "text/plain": [
       "5"
      ]
     },
     "execution_count": 23,
     "metadata": {},
     "output_type": "execute_result"
    }
   ],
   "source": [
    "x[3]"
   ]
  },
  {
   "cell_type": "code",
   "execution_count": 24,
   "metadata": {},
   "outputs": [
    {
     "data": {
      "text/plain": [
       "array([3, 5])"
      ]
     },
     "execution_count": 24,
     "metadata": {},
     "output_type": "execute_result"
    }
   ],
   "source": [
    "x[2:4]"
   ]
  },
  {
   "cell_type": "code",
   "execution_count": 25,
   "metadata": {},
   "outputs": [
    {
     "data": {
      "text/plain": [
       "array([6, 4, 3, 5])"
      ]
     },
     "execution_count": 25,
     "metadata": {},
     "output_type": "execute_result"
    }
   ],
   "source": [
    "x[:4]"
   ]
  },
  {
   "cell_type": "code",
   "execution_count": 26,
   "metadata": {},
   "outputs": [
    {
     "data": {
      "text/plain": [
       "array([4, 3, 5])"
      ]
     },
     "execution_count": 26,
     "metadata": {},
     "output_type": "execute_result"
    }
   ],
   "source": [
    "x[1:]"
   ]
  },
  {
   "cell_type": "markdown",
   "metadata": {},
   "source": [
    "Essa indexação também pode ser utilizada para declarar arrays como, por exemplo, x[2:] = 100"
   ]
  },
  {
   "cell_type": "markdown",
   "metadata": {},
   "source": [
    "##### Conceito 1: o exercício abaixo visa criar uma lista nova y a partir dos dados de outra lista e posteriormente atribuir novos valores a essa nova lista. Entretanto, para essa tarefa é necessário utilizar o comando .copy() com o objetivo de não alterar os valores da lista original."
   ]
  },
  {
   "cell_type": "code",
   "execution_count": 27,
   "metadata": {},
   "outputs": [
    {
     "data": {
      "text/plain": [
       "array([6, 4])"
      ]
     },
     "execution_count": 27,
     "metadata": {},
     "output_type": "execute_result"
    }
   ],
   "source": [
    "y = x[:2].copy()\n",
    "y"
   ]
  },
  {
   "cell_type": "code",
   "execution_count": 28,
   "metadata": {},
   "outputs": [
    {
     "data": {
      "text/plain": [
       "array([100, 100])"
      ]
     },
     "execution_count": 28,
     "metadata": {},
     "output_type": "execute_result"
    }
   ],
   "source": [
    "y[:2] = 100\n",
    "y"
   ]
  },
  {
   "cell_type": "code",
   "execution_count": 29,
   "metadata": {},
   "outputs": [
    {
     "data": {
      "text/plain": [
       "array([6, 4, 3, 5])"
      ]
     },
     "execution_count": 29,
     "metadata": {},
     "output_type": "execute_result"
    }
   ],
   "source": [
    "x"
   ]
  },
  {
   "cell_type": "markdown",
   "metadata": {},
   "source": [
    "##### Conceito 2: Obtendo fatiamentos de uma matriz\n"
   ]
  },
  {
   "cell_type": "code",
   "execution_count": 30,
   "metadata": {},
   "outputs": [
    {
     "data": {
      "text/plain": [
       "array([[-0.24986861,  0.53591578,  1.40246299, -1.83718132,  0.74935564],\n",
       "       [-0.36374376, -1.31627457,  1.04673587,  1.09020197,  0.05948576],\n",
       "       [ 1.46336694,  0.69600771, -0.46265755, -1.13755759, -0.48513803],\n",
       "       [-0.20210306,  0.16629449, -1.35745064, -0.80732653,  0.00895441],\n",
       "       [ 1.43998748, -1.35306253,  1.77522661, -0.75333177,  0.78029881]])"
      ]
     },
     "execution_count": 30,
     "metadata": {},
     "output_type": "execute_result"
    }
   ],
   "source": [
    "A = np.random.randn(5,5) # declaramos uma matriz 5x5 seguindo a distribuição normal\n",
    "A"
   ]
  },
  {
   "cell_type": "markdown",
   "metadata": {},
   "source": [
    "###### Exercício 1: A partir da matriz A, obtenha uma única matriz que contenha as seguintes informações: \n",
    "\n",
    "- Linhas 1, 2 e 3.\n",
    "- Coluna 2 e 3."
   ]
  },
  {
   "cell_type": "code",
   "execution_count": 31,
   "metadata": {},
   "outputs": [
    {
     "data": {
      "text/plain": [
       "array([[ 1.04673587,  1.09020197],\n",
       "       [-0.46265755, -1.13755759],\n",
       "       [-1.35745064, -0.80732653]])"
      ]
     },
     "execution_count": 31,
     "metadata": {},
     "output_type": "execute_result"
    }
   ],
   "source": [
    "A_mod = A[1:4,2:4]\n",
    "A_mod"
   ]
  },
  {
   "cell_type": "markdown",
   "metadata": {},
   "source": [
    "#### Exercício 2: A partir matriz obtida no exercício 1, obtenha as posições e os valores negativos da matriz A."
   ]
  },
  {
   "cell_type": "code",
   "execution_count": 32,
   "metadata": {},
   "outputs": [
    {
     "data": {
      "text/plain": [
       "array([[False, False],\n",
       "       [ True,  True],\n",
       "       [ True,  True]])"
      ]
     },
     "execution_count": 32,
     "metadata": {},
     "output_type": "execute_result"
    }
   ],
   "source": [
    "bol = A_mod < 0\n",
    "bol"
   ]
  },
  {
   "cell_type": "code",
   "execution_count": 33,
   "metadata": {},
   "outputs": [
    {
     "data": {
      "text/plain": [
       "array([-0.46265755, -1.13755759, -1.35745064, -0.80732653])"
      ]
     },
     "execution_count": 33,
     "metadata": {},
     "output_type": "execute_result"
    }
   ],
   "source": [
    "A_mod[bol]"
   ]
  },
  {
   "cell_type": "markdown",
   "metadata": {},
   "source": [
    "#### Exercício 3: Crie uma matriz 10x10 com números de 1 a 100 e em seguida, retorne quais valores são:\n",
    "\n",
    "- pares\n",
    "- ímpares"
   ]
  },
  {
   "cell_type": "code",
   "execution_count": 34,
   "metadata": {},
   "outputs": [
    {
     "data": {
      "text/plain": [
       "array([[  1,   2,   3,   4,   5,   6,   7,   8,   9,  10],\n",
       "       [ 11,  12,  13,  14,  15,  16,  17,  18,  19,  20],\n",
       "       [ 21,  22,  23,  24,  25,  26,  27,  28,  29,  30],\n",
       "       [ 31,  32,  33,  34,  35,  36,  37,  38,  39,  40],\n",
       "       [ 41,  42,  43,  44,  45,  46,  47,  48,  49,  50],\n",
       "       [ 51,  52,  53,  54,  55,  56,  57,  58,  59,  60],\n",
       "       [ 61,  62,  63,  64,  65,  66,  67,  68,  69,  70],\n",
       "       [ 71,  72,  73,  74,  75,  76,  77,  78,  79,  80],\n",
       "       [ 81,  82,  83,  84,  85,  86,  87,  88,  89,  90],\n",
       "       [ 91,  92,  93,  94,  95,  96,  97,  98,  99, 100]])"
      ]
     },
     "execution_count": 34,
     "metadata": {},
     "output_type": "execute_result"
    }
   ],
   "source": [
    "# Cria-se a matriz\n",
    "a = np.arange(1,101,1).reshape((10,10))\n",
    "a"
   ]
  },
  {
   "cell_type": "markdown",
   "metadata": {},
   "source": [
    "- pares"
   ]
  },
  {
   "cell_type": "code",
   "execution_count": 35,
   "metadata": {},
   "outputs": [
    {
     "data": {
      "text/plain": [
       "array([  2,   4,   6,   8,  10,  12,  14,  16,  18,  20,  22,  24,  26,\n",
       "        28,  30,  32,  34,  36,  38,  40,  42,  44,  46,  48,  50,  52,\n",
       "        54,  56,  58,  60,  62,  64,  66,  68,  70,  72,  74,  76,  78,\n",
       "        80,  82,  84,  86,  88,  90,  92,  94,  96,  98, 100])"
      ]
     },
     "execution_count": 35,
     "metadata": {},
     "output_type": "execute_result"
    }
   ],
   "source": [
    "verifica_pares = a % 2 == 0\n",
    "a[verifica_pares]"
   ]
  },
  {
   "cell_type": "markdown",
   "metadata": {},
   "source": [
    "- impares"
   ]
  },
  {
   "cell_type": "code",
   "execution_count": 36,
   "metadata": {},
   "outputs": [
    {
     "data": {
      "text/plain": [
       "array([ 1,  3,  5,  7,  9, 11, 13, 15, 17, 19, 21, 23, 25, 27, 29, 31, 33,\n",
       "       35, 37, 39, 41, 43, 45, 47, 49, 51, 53, 55, 57, 59, 61, 63, 65, 67,\n",
       "       69, 71, 73, 75, 77, 79, 81, 83, 85, 87, 89, 91, 93, 95, 97, 99])"
      ]
     },
     "execution_count": 36,
     "metadata": {},
     "output_type": "execute_result"
    }
   ],
   "source": [
    "verifica_impares = a % 2 != 0\n",
    "a[verifica_impares]"
   ]
  },
  {
   "cell_type": "markdown",
   "metadata": {},
   "source": [
    "#### Exercício 4: Repita o exercício para uma matriz 10000x10000."
   ]
  },
  {
   "cell_type": "code",
   "execution_count": 37,
   "metadata": {},
   "outputs": [
    {
     "data": {
      "text/plain": [
       "array([[        1,         2,         3, ...,      9998,      9999,\n",
       "            10000],\n",
       "       [    10001,     10002,     10003, ...,     19998,     19999,\n",
       "            20000],\n",
       "       [    20001,     20002,     20003, ...,     29998,     29999,\n",
       "            30000],\n",
       "       ...,\n",
       "       [ 99970001,  99970002,  99970003, ...,  99979998,  99979999,\n",
       "         99980000],\n",
       "       [ 99980001,  99980002,  99980003, ...,  99989998,  99989999,\n",
       "         99990000],\n",
       "       [ 99990001,  99990002,  99990003, ...,  99999998,  99999999,\n",
       "        100000000]])"
      ]
     },
     "execution_count": 37,
     "metadata": {},
     "output_type": "execute_result"
    }
   ],
   "source": [
    "# Cria-se a matriz\n",
    "b = np.arange(1,100000001,1).reshape((10000,10000))\n",
    "b"
   ]
  },
  {
   "cell_type": "code",
   "execution_count": 38,
   "metadata": {},
   "outputs": [
    {
     "data": {
      "text/plain": [
       "array([        2,         4,         6, ...,  99999996,  99999998,\n",
       "       100000000])"
      ]
     },
     "execution_count": 38,
     "metadata": {},
     "output_type": "execute_result"
    }
   ],
   "source": [
    "verifica_pares = b % 2 == 0\n",
    "b[verifica_pares]"
   ]
  },
  {
   "cell_type": "code",
   "execution_count": 39,
   "metadata": {},
   "outputs": [
    {
     "data": {
      "text/plain": [
       "array([       1,        3,        5, ..., 99999995, 99999997, 99999999])"
      ]
     },
     "execution_count": 39,
     "metadata": {},
     "output_type": "execute_result"
    }
   ],
   "source": [
    "verifica_impares = b % 2 != 0\n",
    "b[verifica_impares]"
   ]
  },
  {
   "cell_type": "markdown",
   "metadata": {},
   "source": [
    "##### Exercício 5: Crie uma matriz dimensional superior qualquer. Recomendação: 5D ou mais"
   ]
  },
  {
   "cell_type": "code",
   "execution_count": 40,
   "metadata": {},
   "outputs": [
    {
     "data": {
      "text/plain": [
       "array([[[[[0.38918799, 0.72170152, 0.78323928, 0.95214642, 0.36293907,\n",
       "           0.40411706, 0.78112136, 0.43221752, 0.48527743, 0.33654361]]]]])"
      ]
     },
     "execution_count": 40,
     "metadata": {},
     "output_type": "execute_result"
    }
   ],
   "source": [
    "vetor = np.random.rand(10)\n",
    "np.array(vetor,ndmin=5)"
   ]
  },
  {
   "cell_type": "markdown",
   "metadata": {},
   "source": [
    "#### Exercício 6: Mostre um exemplo no qual pode ser utilizado a indexação negativa."
   ]
  },
  {
   "cell_type": "code",
   "execution_count": 41,
   "metadata": {},
   "outputs": [
    {
     "name": "stdout",
     "output_type": "stream",
     "text": [
      "[[0.60836267 0.50776755 0.71856189]\n",
      " [0.75940675 0.80273299 0.05233899]\n",
      " [0.52951061 0.65943126 0.28401073]]\n"
     ]
    }
   ],
   "source": [
    "q = np.random.rand(3,3) \n",
    "print(q)"
   ]
  },
  {
   "cell_type": "code",
   "execution_count": 42,
   "metadata": {},
   "outputs": [
    {
     "data": {
      "text/plain": [
       "array([0.52951061, 0.65943126, 0.28401073])"
      ]
     },
     "execution_count": 42,
     "metadata": {},
     "output_type": "execute_result"
    }
   ],
   "source": [
    "### Agora vamos selecionar a última linha da matriz\n",
    "\n",
    "q[-1]"
   ]
  },
  {
   "cell_type": "markdown",
   "metadata": {},
   "source": [
    "#### Exercício 7: Quais os tipos de dados usados em numpy?"
   ]
  },
  {
   "cell_type": "markdown",
   "metadata": {},
   "source": [
    "int, boolean, float, complex float, unsigned integer, timedelta, datetime, object, string, unicode string e fixed chunk of memory for other type (void).\n",
    "\n",
    "Fonte: https://www.w3schools.com/python/numpy_data_types.asp"
   ]
  },
  {
   "cell_type": "markdown",
   "metadata": {},
   "source": [
    "### Iterando arrays"
   ]
  },
  {
   "cell_type": "markdown",
   "metadata": {},
   "source": [
    "#### Exercício 8: Defina uma matriz 3x3 qualquer e itere-a.\n"
   ]
  },
  {
   "cell_type": "code",
   "execution_count": 43,
   "metadata": {},
   "outputs": [
    {
     "data": {
      "text/plain": [
       "array([[ 2.91407719, -1.01541892,  0.7065323 ],\n",
       "       [-0.4581166 , -1.88083805, -0.47753377],\n",
       "       [-0.3005257 , -0.74920519,  1.08129924]])"
      ]
     },
     "execution_count": 43,
     "metadata": {},
     "output_type": "execute_result"
    }
   ],
   "source": [
    "m = np.random.randn(3,3)\n",
    "m"
   ]
  },
  {
   "cell_type": "code",
   "execution_count": 44,
   "metadata": {},
   "outputs": [
    {
     "name": "stdout",
     "output_type": "stream",
     "text": [
      "[ 2.91407719 -1.01541892  0.7065323 ]\n",
      "[-0.4581166  -1.88083805 -0.47753377]\n",
      "[-0.3005257  -0.74920519  1.08129924]\n"
     ]
    }
   ],
   "source": [
    "for i in m:\n",
    "    print(i)"
   ]
  },
  {
   "cell_type": "markdown",
   "metadata": {},
   "source": [
    "#### Exercício 9: Repita o exercício anterior utilizando a função np.nditer()."
   ]
  },
  {
   "cell_type": "code",
   "execution_count": 45,
   "metadata": {},
   "outputs": [
    {
     "name": "stdout",
     "output_type": "stream",
     "text": [
      "2.914077189561734\n",
      "-1.0154189163045049\n",
      "0.7065322983304965\n",
      "-0.45811660488543454\n",
      "-1.880838051228916\n",
      "-0.4775337736221477\n",
      "-0.3005256996806537\n",
      "-0.7492051938751123\n",
      "1.0812992382539215\n"
     ]
    }
   ],
   "source": [
    "for i in np.nditer(m):\n",
    "    print(i)"
   ]
  },
  {
   "cell_type": "markdown",
   "metadata": {},
   "source": [
    "#### Exercício 10: Utilize a matriz do exercício e enumere-a com os indices e os seus respectivos valores."
   ]
  },
  {
   "cell_type": "code",
   "execution_count": 46,
   "metadata": {},
   "outputs": [
    {
     "name": "stdout",
     "output_type": "stream",
     "text": [
      "(0, 0) 2.914077189561734\n",
      "(0, 1) -1.0154189163045049\n",
      "(0, 2) 0.7065322983304965\n",
      "(1, 0) -0.45811660488543454\n",
      "(1, 1) -1.880838051228916\n",
      "(1, 2) -0.4775337736221477\n",
      "(2, 0) -0.3005256996806537\n",
      "(2, 1) -0.7492051938751123\n",
      "(2, 2) 1.0812992382539215\n"
     ]
    }
   ],
   "source": [
    "for i,x in np.ndenumerate(m):\n",
    "    print(i,x)"
   ]
  },
  {
   "cell_type": "markdown",
   "metadata": {},
   "source": [
    "### Pesquisa em Numpy\n",
    "\n",
    "Uma das maneiras de fazer pesquisas em array no python é através do método where() contido na biblioteca Numpy. Esse método ao ser executado, retorna um conjunto de posições específicas do array parâmetro no qual é satisfeita a condição estabelecida. \n",
    "\n",
    "No trecho de código abaixo, define-se um vetor qualquer e em seguida o verificar determina quais as posições no qual o vetor possui um valor negativo."
   ]
  },
  {
   "cell_type": "code",
   "execution_count": 47,
   "metadata": {},
   "outputs": [
    {
     "name": "stdout",
     "output_type": "stream",
     "text": [
      "(array([ 3,  8, 11], dtype=int64),)\n"
     ]
    }
   ],
   "source": [
    "vetor = np.array([1,2,4,-1,23,10,2,5,-11,7,9,-43,39])\n",
    "verificador = np.where(vetor<0)\n",
    "print(verificador)"
   ]
  },
  {
   "cell_type": "markdown",
   "metadata": {},
   "source": [
    "#### Exercício 11: Utilizando o comando .randint(), gere um vetor contendo '0' e '1' de tamanho 100 e posteriormente, pesquise e printe os valores iguais a 1."
   ]
  },
  {
   "cell_type": "code",
   "execution_count": 48,
   "metadata": {},
   "outputs": [
    {
     "data": {
      "text/plain": [
       "array([0, 0, 0, 1, 0, 1, 1, 1, 0, 1, 1, 0, 1, 1, 0, 1, 1, 1, 1, 1, 1, 1,\n",
       "       0, 0, 1, 0, 1, 1, 0, 1, 1, 1, 1, 0, 0, 1, 1, 0, 1, 0, 0, 0, 0, 1,\n",
       "       1, 1, 0, 1, 0, 1, 1, 1, 1, 1, 0, 0, 0, 1, 0, 1, 0, 0, 1, 1, 0, 0,\n",
       "       1, 0, 1, 1, 1, 0, 0, 0, 1, 0, 0, 0, 1, 1, 0, 0, 1, 1, 1, 0, 1, 1,\n",
       "       1, 1, 0, 1, 1, 1, 1, 0, 1, 0, 1, 0])"
      ]
     },
     "execution_count": 48,
     "metadata": {},
     "output_type": "execute_result"
    }
   ],
   "source": [
    "exerc11 = np.random.randint(2, size=100)\n",
    "exerc11"
   ]
  },
  {
   "cell_type": "code",
   "execution_count": 49,
   "metadata": {},
   "outputs": [
    {
     "name": "stdout",
     "output_type": "stream",
     "text": [
      "(array([ 3,  5,  6,  7,  9, 10, 12, 13, 15, 16, 17, 18, 19, 20, 21, 24, 26,\n",
      "       27, 29, 30, 31, 32, 35, 36, 38, 43, 44, 45, 47, 49, 50, 51, 52, 53,\n",
      "       57, 59, 62, 63, 66, 68, 69, 70, 74, 78, 79, 82, 83, 84, 86, 87, 88,\n",
      "       89, 91, 92, 93, 94, 96, 98], dtype=int64),)\n"
     ]
    }
   ],
   "source": [
    "verificador = np.where(exerc11==1)\n",
    "print(verificador)"
   ]
  },
  {
   "cell_type": "markdown",
   "metadata": {},
   "source": [
    "### Ordenação em Numpy\n",
    "\n",
    "A operação de ordenação é realizada através da função np.sort()."
   ]
  },
  {
   "cell_type": "markdown",
   "metadata": {},
   "source": [
    "#### Exercício 12: Gere números do tipo float de forma aleatória e, em seguida, ordene-os."
   ]
  },
  {
   "cell_type": "code",
   "execution_count": 50,
   "metadata": {},
   "outputs": [
    {
     "data": {
      "text/plain": [
       "array([0.99622669, 0.99177736, 0.98759537, 0.19355656, 0.36788029,\n",
       "       0.37439273, 0.68753515, 0.01221266, 0.95951456, 0.27172284])"
      ]
     },
     "execution_count": 50,
     "metadata": {},
     "output_type": "execute_result"
    }
   ],
   "source": [
    "num = np.random.ranf(10)\n",
    "num"
   ]
  },
  {
   "cell_type": "code",
   "execution_count": 51,
   "metadata": {},
   "outputs": [
    {
     "name": "stdout",
     "output_type": "stream",
     "text": [
      "[0.01221266 0.19355656 0.27172284 0.36788029 0.37439273 0.68753515\n",
      " 0.95951456 0.98759537 0.99177736 0.99622669]\n"
     ]
    }
   ],
   "source": [
    "print(np.sort(num))"
   ]
  },
  {
   "cell_type": "markdown",
   "metadata": {},
   "source": [
    "OBS.: Também é possível aplicar a função a variáveis do tipo string, boolean, inteiros."
   ]
  },
  {
   "cell_type": "markdown",
   "metadata": {},
   "source": [
    "### Filtro em Numpy\n",
    "\n",
    "Essa operação pode ser implementada de variadas formas, uma delas o usuário pode criar um laço de repetição que percorre o conjunto de dados a fim de filtrar uma determinada informação. Outra opção que o usuário pode ter é a de comparar dois conjuntos de dados a fim de obter um subconjunto onde há uma harmonização entre ambos."
   ]
  },
  {
   "cell_type": "markdown",
   "metadata": {},
   "source": [
    "#### Exercício 13: O Conjunto de dados abaixo refere-se ao limite aprovado de clientes para transações bancárias em um banco. Logo, implemente de três formas diferentes onde aparecem os clientes com limite aprovado."
   ]
  },
  {
   "cell_type": "code",
   "execution_count": 52,
   "metadata": {},
   "outputs": [
    {
     "data": {
      "text/plain": [
       "array(['Carlos', 'João', 'Maria', 'Alex', 'Lucas', 'Luana', 'Jéssica'],\n",
       "      dtype='<U7')"
      ]
     },
     "execution_count": 52,
     "metadata": {},
     "output_type": "execute_result"
    }
   ],
   "source": [
    "clientes = np.array([\"Carlos\",\"João\",\"Maria\",\"Alex\",\"Lucas\",\"Luana\",\"Jéssica\"])\n",
    "clientes"
   ]
  },
  {
   "cell_type": "code",
   "execution_count": 53,
   "metadata": {},
   "outputs": [
    {
     "data": {
      "text/plain": [
       "array([ True, False,  True,  True, False, False,  True])"
      ]
     },
     "execution_count": 53,
     "metadata": {},
     "output_type": "execute_result"
    }
   ],
   "source": [
    "x =np.array([True,False,True,True,False,False,True])\n",
    "x"
   ]
  },
  {
   "cell_type": "markdown",
   "metadata": {},
   "source": [
    "##### Forma 1"
   ]
  },
  {
   "cell_type": "code",
   "execution_count": 54,
   "metadata": {},
   "outputs": [
    {
     "data": {
      "text/plain": [
       "array(['Carlos', 'Maria', 'Alex', 'Jéssica'], dtype='<U7')"
      ]
     },
     "execution_count": 54,
     "metadata": {},
     "output_type": "execute_result"
    }
   ],
   "source": [
    "limite = clientes[x]\n",
    "limite"
   ]
  },
  {
   "cell_type": "markdown",
   "metadata": {},
   "source": [
    "###### Forma 2"
   ]
  },
  {
   "cell_type": "code",
   "execution_count": 55,
   "metadata": {},
   "outputs": [
    {
     "name": "stdout",
     "output_type": "stream",
     "text": [
      "Carlos\n",
      "Maria\n",
      "Alex\n",
      "Jéssica\n"
     ]
    }
   ],
   "source": [
    "for i in range (len(clientes)):\n",
    "    if(x[i]==True): \n",
    "        print(clientes[i])"
   ]
  },
  {
   "cell_type": "markdown",
   "metadata": {},
   "source": [
    "##### Forma 3"
   ]
  },
  {
   "cell_type": "code",
   "execution_count": 56,
   "metadata": {},
   "outputs": [
    {
     "name": "stdout",
     "output_type": "stream",
     "text": [
      "['Carlos' 'Maria' 'Alex' 'Jéssica']\n"
     ]
    }
   ],
   "source": [
    "filtro = x == True\n",
    "novo_vetor = clientes[filtro]\n",
    "\n",
    "print(novo_vetor)"
   ]
  },
  {
   "cell_type": "markdown",
   "metadata": {},
   "source": [
    "### Divisão de Matrizes em Numpy\n",
    "\n",
    "Essa operação consiste em dividir um determinado array ou matriz em n partes de n dimensões."
   ]
  },
  {
   "cell_type": "code",
   "execution_count": 65,
   "metadata": {},
   "outputs": [
    {
     "data": {
      "text/plain": [
       "array([0.93021136, 0.90950862, 0.49885093, 0.62925567, 0.00331665])"
      ]
     },
     "execution_count": 65,
     "metadata": {},
     "output_type": "execute_result"
    }
   ],
   "source": [
    "array = np.random.rand(5)\n",
    "array"
   ]
  },
  {
   "cell_type": "code",
   "execution_count": 67,
   "metadata": {},
   "outputs": [
    {
     "data": {
      "text/plain": [
       "[array([0.93021136, 0.90950862]),\n",
       " array([0.49885093]),\n",
       " array([0.62925567]),\n",
       " array([0.00331665])]"
      ]
     },
     "execution_count": 67,
     "metadata": {},
     "output_type": "execute_result"
    }
   ],
   "source": [
    "novo_array = np.array_split(array, 4)\n",
    "novo_array"
   ]
  },
  {
   "cell_type": "markdown",
   "metadata": {},
   "source": [
    "#### Exercício 14: Gere uma matriz 4x4 com valores que seguem a distribuição uniforme contínua e divida-a em 4 vetores contendo as colunas da matriz original."
   ]
  },
  {
   "cell_type": "code",
   "execution_count": 59,
   "metadata": {},
   "outputs": [
    {
     "data": {
      "text/plain": [
       "array([[0.87200645, 0.94731287, 0.71623025, 0.85308428],\n",
       "       [0.38271549, 0.52093576, 0.85312661, 0.63151963],\n",
       "       [0.91061084, 0.53197555, 0.26248818, 0.30284711],\n",
       "       [0.59597486, 0.00256912, 0.36502603, 0.64731136]])"
      ]
     },
     "execution_count": 59,
     "metadata": {},
     "output_type": "execute_result"
    }
   ],
   "source": [
    "# Gera-se a matriz\n",
    "matriz = np.random.random_sample((4,4))\n",
    "matriz"
   ]
  },
  {
   "cell_type": "code",
   "execution_count": 62,
   "metadata": {},
   "outputs": [
    {
     "data": {
      "text/plain": [
       "[array([[0.87200645],\n",
       "        [0.38271549],\n",
       "        [0.91061084],\n",
       "        [0.59597486]]),\n",
       " array([[0.94731287],\n",
       "        [0.52093576],\n",
       "        [0.53197555],\n",
       "        [0.00256912]]),\n",
       " array([[0.71623025],\n",
       "        [0.85312661],\n",
       "        [0.26248818],\n",
       "        [0.36502603]]),\n",
       " array([[0.85308428],\n",
       "        [0.63151963],\n",
       "        [0.30284711],\n",
       "        [0.64731136]])]"
      ]
     },
     "execution_count": 62,
     "metadata": {},
     "output_type": "execute_result"
    }
   ],
   "source": [
    "# Dividi-se a matriz original em quatriz matrizes\n",
    "\n",
    "nova_matriz = np.hsplit(matriz, 4)\n",
    "nova_matriz "
   ]
  },
  {
   "cell_type": "code",
   "execution_count": null,
   "metadata": {},
   "outputs": [],
   "source": []
  }
 ],
 "metadata": {
  "kernelspec": {
   "display_name": "Python 3",
   "language": "python",
   "name": "python3"
  },
  "language_info": {
   "codemirror_mode": {
    "name": "ipython",
    "version": 3
   },
   "file_extension": ".py",
   "mimetype": "text/x-python",
   "name": "python",
   "nbconvert_exporter": "python",
   "pygments_lexer": "ipython3",
   "version": "3.8.3"
  }
 },
 "nbformat": 4,
 "nbformat_minor": 4
}
